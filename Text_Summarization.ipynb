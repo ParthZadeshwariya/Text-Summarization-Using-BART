{
  "nbformat": 4,
  "nbformat_minor": 0,
  "metadata": {
    "colab": {
      "provenance": [],
      "gpuType": "T4"
    },
    "kernelspec": {
      "name": "python3",
      "display_name": "Python 3"
    },
    "language_info": {
      "name": "python"
    },
    "accelerator": "GPU"
  },
  "cells": [
    {
      "cell_type": "markdown",
      "source": [
        "# Text Summarization using BART"
      ],
      "metadata": {
        "id": "bAzs1hrlT5Hb"
      }
    },
    {
      "cell_type": "markdown",
      "source": [
        "BART - Bidirectional and Auto Regressive Transformers"
      ],
      "metadata": {
        "id": "88dhfknnUdjX"
      }
    },
    {
      "cell_type": "markdown",
      "source": [
        "- Without Fine-Tuning\n",
        "- With Fine-Tuning"
      ],
      "metadata": {
        "id": "Lo9k9c0ST-BM"
      }
    },
    {
      "cell_type": "markdown",
      "source": [
        "#### Load the data"
      ],
      "metadata": {
        "id": "-t-1L0cx6JSz"
      }
    },
    {
      "cell_type": "code",
      "source": [
        "!pip install datasets"
      ],
      "metadata": {
        "collapsed": true,
        "id": "wU7nfJUo4kjd",
        "colab": {
          "base_uri": "https://localhost:8080/"
        },
        "outputId": "0b90d4a7-7a70-4532-b665-4af114ded4f2"
      },
      "execution_count": null,
      "outputs": [
        {
          "output_type": "stream",
          "name": "stdout",
          "text": [
            "Requirement already satisfied: datasets in /usr/local/lib/python3.12/dist-packages (4.0.0)\n",
            "Requirement already satisfied: filelock in /usr/local/lib/python3.12/dist-packages (from datasets) (3.20.0)\n",
            "Requirement already satisfied: numpy>=1.17 in /usr/local/lib/python3.12/dist-packages (from datasets) (2.0.2)\n",
            "Requirement already satisfied: pyarrow>=15.0.0 in /usr/local/lib/python3.12/dist-packages (from datasets) (18.1.0)\n",
            "Requirement already satisfied: dill<0.3.9,>=0.3.0 in /usr/local/lib/python3.12/dist-packages (from datasets) (0.3.8)\n",
            "Requirement already satisfied: pandas in /usr/local/lib/python3.12/dist-packages (from datasets) (2.2.2)\n",
            "Requirement already satisfied: requests>=2.32.2 in /usr/local/lib/python3.12/dist-packages (from datasets) (2.32.4)\n",
            "Requirement already satisfied: tqdm>=4.66.3 in /usr/local/lib/python3.12/dist-packages (from datasets) (4.67.1)\n",
            "Requirement already satisfied: xxhash in /usr/local/lib/python3.12/dist-packages (from datasets) (3.6.0)\n",
            "Requirement already satisfied: multiprocess<0.70.17 in /usr/local/lib/python3.12/dist-packages (from datasets) (0.70.16)\n",
            "Requirement already satisfied: fsspec<=2025.3.0,>=2023.1.0 in /usr/local/lib/python3.12/dist-packages (from fsspec[http]<=2025.3.0,>=2023.1.0->datasets) (2025.3.0)\n",
            "Requirement already satisfied: huggingface-hub>=0.24.0 in /usr/local/lib/python3.12/dist-packages (from datasets) (0.35.3)\n",
            "Requirement already satisfied: packaging in /usr/local/lib/python3.12/dist-packages (from datasets) (25.0)\n",
            "Requirement already satisfied: pyyaml>=5.1 in /usr/local/lib/python3.12/dist-packages (from datasets) (6.0.3)\n",
            "Requirement already satisfied: aiohttp!=4.0.0a0,!=4.0.0a1 in /usr/local/lib/python3.12/dist-packages (from fsspec[http]<=2025.3.0,>=2023.1.0->datasets) (3.13.1)\n",
            "Requirement already satisfied: typing-extensions>=3.7.4.3 in /usr/local/lib/python3.12/dist-packages (from huggingface-hub>=0.24.0->datasets) (4.15.0)\n",
            "Requirement already satisfied: hf-xet<2.0.0,>=1.1.3 in /usr/local/lib/python3.12/dist-packages (from huggingface-hub>=0.24.0->datasets) (1.1.10)\n",
            "Requirement already satisfied: charset_normalizer<4,>=2 in /usr/local/lib/python3.12/dist-packages (from requests>=2.32.2->datasets) (3.4.4)\n",
            "Requirement already satisfied: idna<4,>=2.5 in /usr/local/lib/python3.12/dist-packages (from requests>=2.32.2->datasets) (3.11)\n",
            "Requirement already satisfied: urllib3<3,>=1.21.1 in /usr/local/lib/python3.12/dist-packages (from requests>=2.32.2->datasets) (2.5.0)\n",
            "Requirement already satisfied: certifi>=2017.4.17 in /usr/local/lib/python3.12/dist-packages (from requests>=2.32.2->datasets) (2025.10.5)\n",
            "Requirement already satisfied: python-dateutil>=2.8.2 in /usr/local/lib/python3.12/dist-packages (from pandas->datasets) (2.9.0.post0)\n",
            "Requirement already satisfied: pytz>=2020.1 in /usr/local/lib/python3.12/dist-packages (from pandas->datasets) (2025.2)\n",
            "Requirement already satisfied: tzdata>=2022.7 in /usr/local/lib/python3.12/dist-packages (from pandas->datasets) (2025.2)\n",
            "Requirement already satisfied: aiohappyeyeballs>=2.5.0 in /usr/local/lib/python3.12/dist-packages (from aiohttp!=4.0.0a0,!=4.0.0a1->fsspec[http]<=2025.3.0,>=2023.1.0->datasets) (2.6.1)\n",
            "Requirement already satisfied: aiosignal>=1.4.0 in /usr/local/lib/python3.12/dist-packages (from aiohttp!=4.0.0a0,!=4.0.0a1->fsspec[http]<=2025.3.0,>=2023.1.0->datasets) (1.4.0)\n",
            "Requirement already satisfied: attrs>=17.3.0 in /usr/local/lib/python3.12/dist-packages (from aiohttp!=4.0.0a0,!=4.0.0a1->fsspec[http]<=2025.3.0,>=2023.1.0->datasets) (25.4.0)\n",
            "Requirement already satisfied: frozenlist>=1.1.1 in /usr/local/lib/python3.12/dist-packages (from aiohttp!=4.0.0a0,!=4.0.0a1->fsspec[http]<=2025.3.0,>=2023.1.0->datasets) (1.8.0)\n",
            "Requirement already satisfied: multidict<7.0,>=4.5 in /usr/local/lib/python3.12/dist-packages (from aiohttp!=4.0.0a0,!=4.0.0a1->fsspec[http]<=2025.3.0,>=2023.1.0->datasets) (6.7.0)\n",
            "Requirement already satisfied: propcache>=0.2.0 in /usr/local/lib/python3.12/dist-packages (from aiohttp!=4.0.0a0,!=4.0.0a1->fsspec[http]<=2025.3.0,>=2023.1.0->datasets) (0.4.1)\n",
            "Requirement already satisfied: yarl<2.0,>=1.17.0 in /usr/local/lib/python3.12/dist-packages (from aiohttp!=4.0.0a0,!=4.0.0a1->fsspec[http]<=2025.3.0,>=2023.1.0->datasets) (1.22.0)\n",
            "Requirement already satisfied: six>=1.5 in /usr/local/lib/python3.12/dist-packages (from python-dateutil>=2.8.2->pandas->datasets) (1.17.0)\n"
          ]
        }
      ]
    },
    {
      "cell_type": "code",
      "execution_count": null,
      "metadata": {
        "colab": {
          "base_uri": "https://localhost:8080/",
          "height": 345,
          "referenced_widgets": [
            "6229f068b5ad4e88825e407399441e0c",
            "77993b3bad894f66abc535ad97b8154a",
            "49c05d44a4d44ce8abd723b656c57464",
            "7e24d447fd04414ea4a75c9bc208224e",
            "e39ec4f72b4f4086b86918969446950c",
            "aec434cd3de34aa886905a6f10eb376f",
            "2e0b71fa4c9e4f13a2a9f08fd7b2e58d",
            "ea91b0ac11ed4de9a5768c3bc57b278f",
            "5443747af8874556af49b1bee6873cfe",
            "120069f5485d4be19d0bf5d6ac20263f",
            "5db86f5261024a6297d9ac70fc4234b8",
            "5db6e40bceec45318d2f9a0bbb4e4b38",
            "366a4663ac8942df8e5a332df19b14d7",
            "1f52743fa6824ead9dc87c656e8a2f13",
            "4b667dabc84547faa9a7d2471a7638ba",
            "806c04846fd54868908df158a8deb9df",
            "4e3fb1b840944011843d6f14ea4d806e",
            "e7cab1e7ff0942e7bf2adec0e1f601eb",
            "fb9040d96cab415b98aae17e243fb24d",
            "3a17b091b7cc4f85ac6ba82e11a53972",
            "5e6cae72cf3842c891067c916bcb0f56",
            "3ce1476607c94bd9af5920c522345425",
            "300e474f258e4d07bd107c056ea12d48",
            "5e6e85cac564409a8621a851eed78b60",
            "e281c3bf3db1435abdb65bb6a500dbf5",
            "d1bfc9ba0b864eb6b748680ecc4342aa",
            "6b0fcf6ac1da4e3fb2c5b87337cca5e2",
            "4325b8668ea2473a864ab288040c9620",
            "a8ccf80e9f144728a38649e4dd2b3ee6",
            "fa27411af4a54d7f93e101639ca9dc0c",
            "6c5c83b6a25943d1ae30a405bad35f8f",
            "c29d90236f9f44ac94629c288e41fabf",
            "d00528617836443f90e11861cd259b67",
            "5bd7ba9ea9d5447d944ca9bacf861865",
            "ed27c2ddd58d4d0d956ea900a7479b92",
            "e5c997d1e0dd43e68ce40932d31f62fe",
            "f1e3c453e4d046bba85b9b5fb1b4b927",
            "c9f8aa133a76477d947dc72b1e439970",
            "8d027e484c7246eca642371fe15577d4",
            "c9575d83a1ea4892b445fa185ebfd4c6",
            "40faf9663714404d8e3a1de1a4186fbe",
            "5370f0da804246b8afe1a6f6c9be9e91",
            "818ef345be0e4b9fbe05ddf13adf4508",
            "14ae0d4113514a1281a5524014fa2ea6",
            "fe7baaab1cdb4f98be506938392a87a2",
            "dec871b89dd1458aa5fc8392bfa596a6",
            "4abb750a2fba4204bf75921ea0a8be4e",
            "360e4772cfda4c1e9c535667ce2e1c12",
            "303427b42a2b4090b8376262dc0301dd",
            "339e3478125b4373b9a4a8361a879fb0",
            "85c04ce60bc243d78213daf1a2ea4b80",
            "843230c3640243579b00a2a8dfb17e69",
            "ce4dda9c077441f19149b219e97a9ca0",
            "ab5478ca5320414f9f1f4d696d8bc675",
            "f9ac57432f3649138947cdc118194554",
            "56844ca58aba470a8fad0d70a5fdd9c9",
            "609f57e7cd464096b822f35f47c30b39",
            "f33733a195614ef398631cc087e79e10",
            "8100c5b17fa24576b2eb4c2b2a33348e",
            "8f2c9d70c6bf49f28c9a148ed7b578b7",
            "1f8660c5506e4349841440e4560efe95",
            "94e13f68afb349d0b14f0cd97fd493be",
            "32f31d9030304088876f1dbc18ac7c49",
            "62efbe9b8b824ee4a16d50303d0b2e08",
            "d407acfc6cf94e2a818868a330d5a72e",
            "43c506a3d94c4d16a442fe169d95f02e",
            "df17f0ffe36446e0910ea2162455ba2f",
            "81c38c8d9d664d8a852a9c9ee2d44c9d",
            "cdb53242c93c4762bd30fc7012c87a88",
            "cd0a36c9645c4c82a1f760041a9eb948",
            "fd2ce274b9164c5185e99937b6dd193e",
            "a9ddc32f993241aba44609f13a332e34",
            "2ecc89f694e640c19b64fafc1362a8f2",
            "99b2e3c62d1c479185c0f512a52ee792",
            "99470b23d6a44d87b4e79a449bd44a87",
            "61ced275d9f245189bb48e217606e5f6",
            "eb3bee7928264b8399925f36cba4af4a"
          ]
        },
        "id": "4_Pk637B3pB7",
        "outputId": "79be9d12-6d1c-474f-ae63-49e699582d35"
      },
      "outputs": [
        {
          "output_type": "stream",
          "name": "stderr",
          "text": [
            "/usr/local/lib/python3.12/dist-packages/huggingface_hub/utils/_auth.py:94: UserWarning: \n",
            "The secret `HF_TOKEN` does not exist in your Colab secrets.\n",
            "To authenticate with the Hugging Face Hub, create a token in your settings tab (https://huggingface.co/settings/tokens), set it as secret in your Google Colab and restart your session.\n",
            "You will be able to reuse this secret in all of your notebooks.\n",
            "Please note that authentication is recommended but still optional to access public models or datasets.\n",
            "  warnings.warn(\n"
          ]
        },
        {
          "output_type": "display_data",
          "data": {
            "text/plain": [
              "README.md: 0.00B [00:00, ?B/s]"
            ],
            "application/vnd.jupyter.widget-view+json": {
              "version_major": 2,
              "version_minor": 0,
              "model_id": "6229f068b5ad4e88825e407399441e0c"
            }
          },
          "metadata": {}
        },
        {
          "output_type": "display_data",
          "data": {
            "text/plain": [
              "train.csv:   0%|          | 0.00/11.3M [00:00<?, ?B/s]"
            ],
            "application/vnd.jupyter.widget-view+json": {
              "version_major": 2,
              "version_minor": 0,
              "model_id": "5db6e40bceec45318d2f9a0bbb4e4b38"
            }
          },
          "metadata": {}
        },
        {
          "output_type": "display_data",
          "data": {
            "text/plain": [
              "validation.csv: 0.00B [00:00, ?B/s]"
            ],
            "application/vnd.jupyter.widget-view+json": {
              "version_major": 2,
              "version_minor": 0,
              "model_id": "300e474f258e4d07bd107c056ea12d48"
            }
          },
          "metadata": {}
        },
        {
          "output_type": "display_data",
          "data": {
            "text/plain": [
              "test.csv: 0.00B [00:00, ?B/s]"
            ],
            "application/vnd.jupyter.widget-view+json": {
              "version_major": 2,
              "version_minor": 0,
              "model_id": "5bd7ba9ea9d5447d944ca9bacf861865"
            }
          },
          "metadata": {}
        },
        {
          "output_type": "display_data",
          "data": {
            "text/plain": [
              "Generating train split:   0%|          | 0/12460 [00:00<?, ? examples/s]"
            ],
            "application/vnd.jupyter.widget-view+json": {
              "version_major": 2,
              "version_minor": 0,
              "model_id": "fe7baaab1cdb4f98be506938392a87a2"
            }
          },
          "metadata": {}
        },
        {
          "output_type": "display_data",
          "data": {
            "text/plain": [
              "Generating validation split:   0%|          | 0/500 [00:00<?, ? examples/s]"
            ],
            "application/vnd.jupyter.widget-view+json": {
              "version_major": 2,
              "version_minor": 0,
              "model_id": "56844ca58aba470a8fad0d70a5fdd9c9"
            }
          },
          "metadata": {}
        },
        {
          "output_type": "display_data",
          "data": {
            "text/plain": [
              "Generating test split:   0%|          | 0/1500 [00:00<?, ? examples/s]"
            ],
            "application/vnd.jupyter.widget-view+json": {
              "version_major": 2,
              "version_minor": 0,
              "model_id": "df17f0ffe36446e0910ea2162455ba2f"
            }
          },
          "metadata": {}
        }
      ],
      "source": [
        "from datasets import load_dataset\n",
        "\n",
        "df = load_dataset(\"knkarthick/dialogsum\")"
      ]
    },
    {
      "cell_type": "code",
      "source": [
        "df"
      ],
      "metadata": {
        "colab": {
          "base_uri": "https://localhost:8080/"
        },
        "id": "VigsXxCZ4dfD",
        "outputId": "9ca8d6ea-6e2c-4757-8937-3df4301fa16f"
      },
      "execution_count": null,
      "outputs": [
        {
          "output_type": "execute_result",
          "data": {
            "text/plain": [
              "DatasetDict({\n",
              "    train: Dataset({\n",
              "        features: ['id', 'dialogue', 'summary', 'topic'],\n",
              "        num_rows: 12460\n",
              "    })\n",
              "    validation: Dataset({\n",
              "        features: ['id', 'dialogue', 'summary', 'topic'],\n",
              "        num_rows: 500\n",
              "    })\n",
              "    test: Dataset({\n",
              "        features: ['id', 'dialogue', 'summary', 'topic'],\n",
              "        num_rows: 1500\n",
              "    })\n",
              "})"
            ]
          },
          "metadata": {},
          "execution_count": 3
        }
      ]
    },
    {
      "cell_type": "code",
      "source": [
        "df['train'][1]['dialogue']"
      ],
      "metadata": {
        "colab": {
          "base_uri": "https://localhost:8080/",
          "height": 105
        },
        "id": "Na0l2rS_4hSy",
        "outputId": "59dc3246-4b6d-40ed-f7fc-b699c91641f9"
      },
      "execution_count": null,
      "outputs": [
        {
          "output_type": "execute_result",
          "data": {
            "text/plain": [
              "\"#Person1#: Hello Mrs. Parker, how have you been?\\n#Person2#: Hello Dr. Peters. Just fine thank you. Ricky and I are here for his vaccines.\\n#Person1#: Very well. Let's see, according to his vaccination record, Ricky has received his Polio, Tetanus and Hepatitis B shots. He is 14 months old, so he is due for Hepatitis A, Chickenpox and Measles shots.\\n#Person2#: What about Rubella and Mumps?\\n#Person1#: Well, I can only give him these for now, and after a couple of weeks I can administer the rest.\\n#Person2#: OK, great. Doctor, I think I also may need a Tetanus booster. Last time I got it was maybe fifteen years ago!\\n#Person1#: We will check our records and I'll have the nurse administer and the booster as well. Now, please hold Ricky's arm tight, this may sting a little.\""
            ],
            "application/vnd.google.colaboratory.intrinsic+json": {
              "type": "string"
            }
          },
          "metadata": {},
          "execution_count": 4
        }
      ]
    },
    {
      "cell_type": "code",
      "source": [
        "df['train'][1]['summary']"
      ],
      "metadata": {
        "colab": {
          "base_uri": "https://localhost:8080/",
          "height": 35
        },
        "id": "vxPPRofA5We9",
        "outputId": "a006b57f-552d-42f2-ac5b-a81690681ae5"
      },
      "execution_count": null,
      "outputs": [
        {
          "output_type": "execute_result",
          "data": {
            "text/plain": [
              "'Mrs Parker takes Ricky for his vaccines. Dr. Peters checks the record and then gives Ricky a vaccine.'"
            ],
            "application/vnd.google.colaboratory.intrinsic+json": {
              "type": "string"
            }
          },
          "metadata": {},
          "execution_count": 5
        }
      ]
    },
    {
      "cell_type": "markdown",
      "source": [
        "## 1. Using model without Fine-Tuning"
      ],
      "metadata": {
        "id": "ULQdS5mf6gCR"
      }
    },
    {
      "cell_type": "markdown",
      "source": [
        "#### Loading BART Model"
      ],
      "metadata": {
        "id": "jqSi9MtI6NCp"
      }
    },
    {
      "cell_type": "code",
      "source": [
        "from transformers import pipeline\n",
        "\n",
        "text_summarizer = pipeline(\"summarization\", model=\"facebook/bart-large-cnn\")"
      ],
      "metadata": {
        "colab": {
          "base_uri": "https://localhost:8080/",
          "height": 226,
          "referenced_widgets": [
            "755356a6079840cba22d45e4fa00f839",
            "a177f4aa26884549844783ecdf109bbe",
            "f6295b7876b5471c83edcdfede98164d",
            "d5b34b1e310a45d8b3a204a21a02fcc5",
            "b8fcf9cbcaa64a44b4e29b9387402a6f",
            "8ed9ca830c68446d9331acbc4ab6ab7c",
            "735c502b6411479690c7c577c62f3b42",
            "4f6c092a6d9d4a6aa1c426a3a6f1ec37",
            "96f8a81bed9748308c25a39ae736a848",
            "ff26f9fc070e457591f8c6bcf1de998c",
            "b503ee908e224ea59cb98d3f574d215b",
            "dbe3ac9d831c47d3906cf972851c644d",
            "6fb0db9654184476828d7bb1de50f17e",
            "6283f7f3a6b44cd9ad338cee1621d526",
            "b7fa9663d19b49c8bbdb01861be57d6d",
            "bf52037c9edd48d6b0058a8362e263a3",
            "4ec048ad873742418d83a64c70fe647c",
            "7d5153d3ce3043d788d0c9859fdc359d",
            "7580073f56144aa48f5917b58f2be2eb",
            "2c4cb59d7f8149c79b36cb0f8bf84c1b",
            "58676a217a3b468a8c81779864e11dfd",
            "42474032bc074be1a9a0225c1cdf1bda",
            "6f0842d724dc46ff8f393f7c3e0503b1",
            "e7387445089c4b079c34ba8cf70cc3ed",
            "b0de91ffe06e41ba983184ac888ccb5a",
            "8bafe7f9abf04743b01c17a8d7e3dde9",
            "720762a15a6741d8ab0141a2f01dae11",
            "7611388b7091415eaea319982d454995",
            "24c28bf2c20144c0ad99e42318a631d6",
            "73d6f8ec38b04c509c279e4d409febf0",
            "1bbf2127aa824b60aedbc1aefc88a0bf",
            "b09cafe737dd4cb7963f6115843e0867",
            "a92c4fc7938e47cc96b62474ecff3b72",
            "1228c2f4819142ab9b1f4b2b92f082e4",
            "bae120bf3fba43edb26ccb48053bca8d",
            "4485ff62aeb444768ac6d00d6ae07f74",
            "517f1e39041141ceb03f4f2b8eed7227",
            "945320a7c2304a1695f1c4cd9d88539f",
            "d986b3e7de204229b4ffd4e09c31b9fb",
            "4723215d0eda47c5b34365c323bdbaa1",
            "5b1719e1bf354b58b52766f8cb816bda",
            "b861f3f38d22473db8fe49436e96fec5",
            "2a4597bae9984755be9fa6c6aac6c931",
            "9e1b75814d2e4c8b9e15d720d0780483",
            "a05ead9590eb4968bd1cdbb52daaa7af",
            "d5f1a60e826244a0a05991adadcdb3c7",
            "a89a4fd357d34541b27ec90623485d75",
            "3ad41975a8a64b3aae8fc45c3cb578ab",
            "b30cd0c8e35a42b1a9164108ea8fcfe1",
            "9862d6f7536647e18abfe890d6e8c09a",
            "f026cdb3cb0d4fdcb950105423e4492d",
            "cee8ce35b3fb4b1dbbc3421adcad26b3",
            "21ae0b9acf1b4e4ea193d27abbec20cf",
            "3195c4898f364540ab8cf54b946557db",
            "6763ca76f82f4ff487644824d971b006",
            "c352ad8c8dc04243b15041613f538a76",
            "befb15c9c33f4e94a7c57b2a0e4a490d",
            "b21fcd8d7018495c9ed4bab9af4eb59d",
            "f54c90db519b499a9956ed7b8bd480cb",
            "06f7d899b840423ca66eca5cd9a62ef4",
            "5c5b99afa0d24fcbb500f030e88ea30b",
            "7a30a8d8fe974fae8861ab5f45a86cbb",
            "1ac0844cfb7c430f99bc679462c1b332",
            "0d10456d33aa4b0eacb0b6193e7a4772",
            "c49946972981471da16e75004eab8a9f",
            "f24d7509217048e38bf89358742234a9"
          ]
        },
        "id": "MQxloL1e5dYN",
        "outputId": "507b4e64-4d36-44e9-ec2b-241220c3e12f"
      },
      "execution_count": null,
      "outputs": [
        {
          "output_type": "display_data",
          "data": {
            "text/plain": [
              "config.json: 0.00B [00:00, ?B/s]"
            ],
            "application/vnd.jupyter.widget-view+json": {
              "version_major": 2,
              "version_minor": 0,
              "model_id": "755356a6079840cba22d45e4fa00f839"
            }
          },
          "metadata": {}
        },
        {
          "output_type": "display_data",
          "data": {
            "text/plain": [
              "model.safetensors:   0%|          | 0.00/1.63G [00:00<?, ?B/s]"
            ],
            "application/vnd.jupyter.widget-view+json": {
              "version_major": 2,
              "version_minor": 0,
              "model_id": "dbe3ac9d831c47d3906cf972851c644d"
            }
          },
          "metadata": {}
        },
        {
          "output_type": "display_data",
          "data": {
            "text/plain": [
              "generation_config.json:   0%|          | 0.00/363 [00:00<?, ?B/s]"
            ],
            "application/vnd.jupyter.widget-view+json": {
              "version_major": 2,
              "version_minor": 0,
              "model_id": "6f0842d724dc46ff8f393f7c3e0503b1"
            }
          },
          "metadata": {}
        },
        {
          "output_type": "display_data",
          "data": {
            "text/plain": [
              "vocab.json: 0.00B [00:00, ?B/s]"
            ],
            "application/vnd.jupyter.widget-view+json": {
              "version_major": 2,
              "version_minor": 0,
              "model_id": "1228c2f4819142ab9b1f4b2b92f082e4"
            }
          },
          "metadata": {}
        },
        {
          "output_type": "display_data",
          "data": {
            "text/plain": [
              "merges.txt: 0.00B [00:00, ?B/s]"
            ],
            "application/vnd.jupyter.widget-view+json": {
              "version_major": 2,
              "version_minor": 0,
              "model_id": "a05ead9590eb4968bd1cdbb52daaa7af"
            }
          },
          "metadata": {}
        },
        {
          "output_type": "display_data",
          "data": {
            "text/plain": [
              "tokenizer.json: 0.00B [00:00, ?B/s]"
            ],
            "application/vnd.jupyter.widget-view+json": {
              "version_major": 2,
              "version_minor": 0,
              "model_id": "c352ad8c8dc04243b15041613f538a76"
            }
          },
          "metadata": {}
        },
        {
          "output_type": "stream",
          "name": "stderr",
          "text": [
            "Device set to use cuda:0\n"
          ]
        }
      ]
    },
    {
      "cell_type": "code",
      "source": [
        "article_1 = df['train'][1]['dialogue']\n",
        "\n",
        "text_summarizer(article_1, max_length=20, min_length=10, do_sample=False)"
      ],
      "metadata": {
        "colab": {
          "base_uri": "https://localhost:8080/"
        },
        "id": "Q1HYixVL6v2V",
        "outputId": "84a20779-c3ae-4a10-8b72-cb46c62c879f"
      },
      "execution_count": null,
      "outputs": [
        {
          "output_type": "execute_result",
          "data": {
            "text/plain": [
              "[{'summary_text': 'Ricky has received his Polio, Tetanus and Hepatitis B shots.'}]"
            ]
          },
          "metadata": {},
          "execution_count": 7
        }
      ]
    },
    {
      "cell_type": "markdown",
      "source": [
        "## 2. Fine-Tuning the Model"
      ],
      "metadata": {
        "id": "rFmdvkT58vej"
      }
    },
    {
      "cell_type": "code",
      "source": [
        "from transformers import AutoTokenizer, AutoModelForSeq2SeqLM\n",
        "from transformers import TrainingArguments, Trainer"
      ],
      "metadata": {
        "id": "MtI2iSXw7_D_"
      },
      "execution_count": null,
      "outputs": []
    },
    {
      "cell_type": "code",
      "source": [
        "tokenizer = AutoTokenizer.from_pretrained(\"facebook/bart-base\")"
      ],
      "metadata": {
        "colab": {
          "base_uri": "https://localhost:8080/",
          "height": 145,
          "referenced_widgets": [
            "3de9eee01c354308aae4e6d68f6e2065",
            "dd93848be310448282ee9e801fd056c7",
            "5ada8fde3d4240ea8c5aa901fd075705",
            "95712794768540c79b974cf8bd5dac57",
            "ea4fc24bcb41451b8755df26429d06eb",
            "a5dfe91d595446e6a07bd74f0a45b950",
            "a905073610b8433f924a863a546bb435",
            "f8a1fcb82d144eea834459f4f7e2fdf6",
            "28cf961d4d484437ae94b965697969e8",
            "3a6f67c4e85d452cbb555925e245489a",
            "e04cb567cb18405894aaf6c2de4fb00a",
            "ef411b41bdda43bab4d3981c6c2ad80c",
            "3909283ea9754455a60450551bd64f7a",
            "369650d3858944ccad1c28ac064aa608",
            "0d49e92c6c6241e2af69ca597c7ca3fe",
            "e8392c49fafd4b95945200ddb08f2726",
            "62ca0a52f5fa422aac41efa30fa55e5e",
            "85b443ccd85644809b3835680365cc80",
            "2411f0a9a1594c0999ecaf9f4a77538c",
            "05b5bab5605c4005a5a68c67a37d8d3f",
            "e80fab9ef03442cdb265811fdf9a8b99",
            "404c47950d6d42e7aa383ada2242e164",
            "37ca6fd99f3e4f0e9d4abba9d3715d19",
            "5562a95aa60e4a6db436b27bbbbfd791",
            "04ed8dadbcb64f95a201d59a36728cc4",
            "b94a603555fc4e5aabf7bd1283126dc7",
            "2c126767278f40bf9afc766e981b1652",
            "7c79c050203c430cb0958c7f79ab6028",
            "587d1297d9d74f03b8e2243c13bd1e46",
            "c18c83569fd847b396e958549659a3e8",
            "96658ec0779f49bfb778b8dc67c0415d",
            "5aaad8a6b2ae47d0b1fa95819b419669",
            "c3907abe339942b5aad90e78635b0656",
            "bf7235f339194f6f933b07c88bc0ccff",
            "100b6adac37b40a7827b3b5aa4f1eef5",
            "c07fc9e0580343a98d55e43952233d00",
            "09d192e6d37844a195708fe6039483c0",
            "70cb7e32397c4dd2a14ec1cdcd8ec583",
            "be7bf6bb64a049b8af50c7590de446cb",
            "7bef3657f4484a219ce30f1ce8e8ab22",
            "640cd75e62da40eaae9d41f95793546d",
            "30ea2df4f6394183a63ee14c1935d5f3",
            "20b3c017ed8b4e18bef2f17e1f7ce6b8",
            "2d68603531ba46bb9cde860c9c48a1c1"
          ]
        },
        "id": "PYhb6GbL9X1V",
        "outputId": "46850386-bf7e-49ad-a96b-5f173cf96bb7"
      },
      "execution_count": null,
      "outputs": [
        {
          "output_type": "display_data",
          "data": {
            "text/plain": [
              "config.json: 0.00B [00:00, ?B/s]"
            ],
            "application/vnd.jupyter.widget-view+json": {
              "version_major": 2,
              "version_minor": 0,
              "model_id": "3de9eee01c354308aae4e6d68f6e2065"
            }
          },
          "metadata": {}
        },
        {
          "output_type": "display_data",
          "data": {
            "text/plain": [
              "vocab.json: 0.00B [00:00, ?B/s]"
            ],
            "application/vnd.jupyter.widget-view+json": {
              "version_major": 2,
              "version_minor": 0,
              "model_id": "ef411b41bdda43bab4d3981c6c2ad80c"
            }
          },
          "metadata": {}
        },
        {
          "output_type": "display_data",
          "data": {
            "text/plain": [
              "merges.txt: 0.00B [00:00, ?B/s]"
            ],
            "application/vnd.jupyter.widget-view+json": {
              "version_major": 2,
              "version_minor": 0,
              "model_id": "37ca6fd99f3e4f0e9d4abba9d3715d19"
            }
          },
          "metadata": {}
        },
        {
          "output_type": "display_data",
          "data": {
            "text/plain": [
              "tokenizer.json: 0.00B [00:00, ?B/s]"
            ],
            "application/vnd.jupyter.widget-view+json": {
              "version_major": 2,
              "version_minor": 0,
              "model_id": "bf7235f339194f6f933b07c88bc0ccff"
            }
          },
          "metadata": {}
        }
      ]
    },
    {
      "cell_type": "code",
      "source": [
        "model = AutoModelForSeq2SeqLM.from_pretrained(\"facebook/bart-base\")"
      ],
      "metadata": {
        "colab": {
          "base_uri": "https://localhost:8080/",
          "height": 49,
          "referenced_widgets": [
            "5e2fcf33ab1d446882db32725498525c",
            "5a9c43a5bae1480b8e52c556a654beb3",
            "56a63bacb0a148adafdc90df03eb33cb",
            "4a60a58cd9b44ea39ee97ee919c28b06",
            "6be93d37a7274c2e8b9a586620caed10",
            "d1095f76c61141b5b2c7cd1698d65b33",
            "03a05a44f2ff425e847cc3bbba64de70",
            "4d09efdc85d14cef9170381dc2e277f3",
            "655dc89e49d74d2b9c01152147653cad",
            "8cd83063e40246e4a2e45e92da2afff8",
            "44d99be831a94e3a8583b1bf641010bc"
          ]
        },
        "id": "5gzSiav39kYs",
        "outputId": "88cbf05e-becd-422b-a50c-70885cbfa411"
      },
      "execution_count": null,
      "outputs": [
        {
          "output_type": "display_data",
          "data": {
            "text/plain": [
              "model.safetensors:   0%|          | 0.00/558M [00:00<?, ?B/s]"
            ],
            "application/vnd.jupyter.widget-view+json": {
              "version_major": 2,
              "version_minor": 0,
              "model_id": "5e2fcf33ab1d446882db32725498525c"
            }
          },
          "metadata": {}
        }
      ]
    },
    {
      "cell_type": "markdown",
      "source": [
        "'input_ids' represent the tokenized form of your input text. Each token (which could be a word or part of a word) is converted into a unique integer ID based on the model's vocabulary."
      ],
      "metadata": {
        "id": "OngVfOX-WCl1"
      }
    },
    {
      "cell_type": "markdown",
      "source": [
        "'attention_mask' is a tensor that indicates which tokens should be attended to and which should be ignored (usually padding tokens). It’s a binary mask where typically:\n",
        "\n",
        "- 1 indicates that the token should be attended to.\n",
        "- 0 indicates that the token is padding and should be ignored."
      ],
      "metadata": {
        "id": "q_mmJIGGV3ge"
      }
    },
    {
      "cell_type": "markdown",
      "source": [
        "In sequence-to-sequence models, such as text summarization models, you have:\n",
        "\n",
        "- Input IDs: Tokenized IDs of the source text (e.g., dialogue).\n",
        "- Target IDs: Tokenized IDs of the target text (e.g., summary).<br>\n",
        "\n",
        "During training, the model computes the loss between the predicted sequence and the target sequence. To ensure that padding tokens do not affect this loss calculation, padding token IDs are often replaced with -100.\n",
        "\n"
      ],
      "metadata": {
        "id": "BB6D9O3MYQ70"
      }
    },
    {
      "cell_type": "code",
      "source": [
        "#tokenization\n",
        "\n",
        "def preprocess_function(batch):\n",
        "    source = batch['dialogue']\n",
        "    target = batch[\"summary\"]\n",
        "    source_ids = tokenizer(source, truncation=True, padding=\"max_length\", max_length=128)\n",
        "    target_ids = tokenizer(target, truncation=True, padding=\"max_length\", max_length=128)\n",
        "\n",
        "    # Replace pad token id with -100 for labels to ignore padding in loss computation\n",
        "    labels = target_ids[\"input_ids\"]\n",
        "    labels = [[(label if label != tokenizer.pad_token_id else -100) for label in labels_example] for labels_example in labels]\n",
        "\n",
        "    return {\n",
        "        \"input_ids\": source_ids[\"input_ids\"],\n",
        "        \"attention_mask\": source_ids[\"attention_mask\"],\n",
        "        \"labels\": labels\n",
        "    }\n",
        "\n",
        "df_source = df.map(preprocess_function, batched=True)"
      ],
      "metadata": {
        "colab": {
          "base_uri": "https://localhost:8080/",
          "height": 113,
          "referenced_widgets": [
            "4efb42aa77c74c2bbd88a3f80600a45c",
            "df1112f7901f48349bdadf9c220cd701",
            "c043f69719e34bb0bfef6643047a5c9d",
            "757bde08d0b9499abcad927840f79d6a",
            "0ebd9ead3afb4d57b48ff94c7e5642d2",
            "c8312edc5a304c90830e2f7f8fdb439b",
            "78f2cb5e690b4c98a442b1bf67f75f68",
            "203fac3217f3439d986a3367a51fe96e",
            "962601b3447e406c8c8400ef44fe1114",
            "d720c53529a74bb9af8277dca7944294",
            "3927b8f00c3f4dbcb443f5a637adb256",
            "202c63c9043f43d8b1f0d55845e2a5da",
            "667c8b955d3a4c51b85fccf115cad1af",
            "70de8be6fd9c44d09372b37707e740e3",
            "847f9e34f1ff4764a28bd1919d929091",
            "ed0becd32e0c434cad90c29e1b72a2b2",
            "617f0341536a4b8d888264350a5550b5",
            "c0d46cf24ca44a56a8d7473b55e8875b",
            "3c9140a6faf94bad82bca4b3c93f9b68",
            "c362ff8956ae41ab8abefcb4655346e1",
            "2b9eadb20be34b469de64789b11b06f9",
            "e290cd48383e4929a7e097b19ef2b92d",
            "ec18a812292745708a532474d9849c1f",
            "0ea4fd6dc7764c2d8a9c52a54f22ad7a",
            "0c604626b0bb48289a0dc8468475c144",
            "c28a518e428146f7b422e6625f0eb3d7",
            "99144455471245938fc1ac8fbe9c6155",
            "b30e03b670b54a579b981f5aef988f9b",
            "5fad29cffec4486bac7e71f15cac881e",
            "fea46efa1698402bb0480e287a297798",
            "b4d9143e39d54fcca55ff249b71d22f0",
            "9400837b0d1c42d295762535a5b1e71f",
            "1f08dce5e15040a0886641e14ede9d68"
          ]
        },
        "id": "Icy1UdVS9plD",
        "outputId": "de17948c-267f-4f73-a37c-5b41443c4300"
      },
      "execution_count": null,
      "outputs": [
        {
          "output_type": "display_data",
          "data": {
            "text/plain": [
              "Map:   0%|          | 0/12460 [00:00<?, ? examples/s]"
            ],
            "application/vnd.jupyter.widget-view+json": {
              "version_major": 2,
              "version_minor": 0,
              "model_id": "4efb42aa77c74c2bbd88a3f80600a45c"
            }
          },
          "metadata": {}
        },
        {
          "output_type": "display_data",
          "data": {
            "text/plain": [
              "Map:   0%|          | 0/500 [00:00<?, ? examples/s]"
            ],
            "application/vnd.jupyter.widget-view+json": {
              "version_major": 2,
              "version_minor": 0,
              "model_id": "202c63c9043f43d8b1f0d55845e2a5da"
            }
          },
          "metadata": {}
        },
        {
          "output_type": "display_data",
          "data": {
            "text/plain": [
              "Map:   0%|          | 0/1500 [00:00<?, ? examples/s]"
            ],
            "application/vnd.jupyter.widget-view+json": {
              "version_major": 2,
              "version_minor": 0,
              "model_id": "ec18a812292745708a532474d9849c1f"
            }
          },
          "metadata": {}
        }
      ]
    },
    {
      "cell_type": "code",
      "source": [
        "# Define training arguments\n",
        "training_args = TrainingArguments(\n",
        "    output_dir=\"/content\",  # Replace with your output directory\n",
        "    per_device_train_batch_size=8,\n",
        "    num_train_epochs=2,  # Adjust number of epochs as needed\n",
        "    remove_unused_columns=False\n",
        ")"
      ],
      "metadata": {
        "id": "dKGPehaXAYKD"
      },
      "execution_count": null,
      "outputs": []
    },
    {
      "cell_type": "code",
      "source": [
        "# Create Trainer object\n",
        "trainer = Trainer(\n",
        "    model=model,\n",
        "    args=training_args,\n",
        "    train_dataset=df_source[\"train\"],\n",
        "    eval_dataset=df_source[\"test\"]\n",
        ")\n",
        "\n",
        "trainer.train()"
      ],
      "metadata": {
        "colab": {
          "base_uri": "https://localhost:8080/",
          "height": 631
        },
        "id": "2D8SXEuFAfU0",
        "outputId": "1483031d-371d-492a-97ef-703234dce711"
      },
      "execution_count": null,
      "outputs": [
        {
          "output_type": "stream",
          "name": "stderr",
          "text": [
            "/usr/local/lib/python3.12/dist-packages/notebook/notebookapp.py:191: SyntaxWarning: invalid escape sequence '\\/'\n",
            "  | |_| | '_ \\/ _` / _` |  _/ -_)\n"
          ]
        },
        {
          "output_type": "display_data",
          "data": {
            "text/plain": [
              "<IPython.core.display.Javascript object>"
            ],
            "application/javascript": [
              "\n",
              "        window._wandbApiKey = new Promise((resolve, reject) => {\n",
              "            function loadScript(url) {\n",
              "            return new Promise(function(resolve, reject) {\n",
              "                let newScript = document.createElement(\"script\");\n",
              "                newScript.onerror = reject;\n",
              "                newScript.onload = resolve;\n",
              "                document.body.appendChild(newScript);\n",
              "                newScript.src = url;\n",
              "            });\n",
              "            }\n",
              "            loadScript(\"https://cdn.jsdelivr.net/npm/postmate/build/postmate.min.js\").then(() => {\n",
              "            const iframe = document.createElement('iframe')\n",
              "            iframe.style.cssText = \"width:0;height:0;border:none\"\n",
              "            document.body.appendChild(iframe)\n",
              "            const handshake = new Postmate({\n",
              "                container: iframe,\n",
              "                url: 'https://wandb.ai/authorize'\n",
              "            });\n",
              "            const timeout = setTimeout(() => reject(\"Couldn't auto authenticate\"), 5000)\n",
              "            handshake.then(function(child) {\n",
              "                child.on('authorize', data => {\n",
              "                    clearTimeout(timeout)\n",
              "                    resolve(data)\n",
              "                });\n",
              "            });\n",
              "            })\n",
              "        });\n",
              "    "
            ]
          },
          "metadata": {}
        },
        {
          "output_type": "stream",
          "name": "stderr",
          "text": [
            "\u001b[34m\u001b[1mwandb\u001b[0m: Logging into wandb.ai. (Learn how to deploy a W&B server locally: https://wandb.me/wandb-server)\n",
            "\u001b[34m\u001b[1mwandb\u001b[0m: You can find your API key in your browser here: https://wandb.ai/authorize?ref=models\n",
            "wandb: Paste an API key from your profile and hit enter:"
          ]
        },
        {
          "name": "stdout",
          "output_type": "stream",
          "text": [
            " ··········\n"
          ]
        },
        {
          "output_type": "stream",
          "name": "stderr",
          "text": [
            "\u001b[34m\u001b[1mwandb\u001b[0m: \u001b[33mWARNING\u001b[0m If you're specifying your api key in code, ensure this code is not shared publicly.\n",
            "\u001b[34m\u001b[1mwandb\u001b[0m: \u001b[33mWARNING\u001b[0m Consider setting the WANDB_API_KEY environment variable, or running `wandb login` from the command line.\n",
            "\u001b[34m\u001b[1mwandb\u001b[0m: No netrc file found, creating one.\n",
            "\u001b[34m\u001b[1mwandb\u001b[0m: Appending key for api.wandb.ai to your netrc file: /root/.netrc\n",
            "\u001b[34m\u001b[1mwandb\u001b[0m: Currently logged in as: \u001b[33mparthzadeshwariya\u001b[0m (\u001b[33mparthzadeshwariya-nirma-university\u001b[0m) to \u001b[32mhttps://api.wandb.ai\u001b[0m. Use \u001b[1m`wandb login --relogin`\u001b[0m to force relogin\n"
          ]
        },
        {
          "output_type": "display_data",
          "data": {
            "text/plain": [
              "<IPython.core.display.HTML object>"
            ],
            "text/html": []
          },
          "metadata": {}
        },
        {
          "output_type": "display_data",
          "data": {
            "text/plain": [
              "<IPython.core.display.HTML object>"
            ],
            "text/html": [
              "Tracking run with wandb version 0.22.2"
            ]
          },
          "metadata": {}
        },
        {
          "output_type": "display_data",
          "data": {
            "text/plain": [
              "<IPython.core.display.HTML object>"
            ],
            "text/html": [
              "Run data is saved locally in <code>/content/wandb/run-20251026_103023-mngrtjjo</code>"
            ]
          },
          "metadata": {}
        },
        {
          "output_type": "display_data",
          "data": {
            "text/plain": [
              "<IPython.core.display.HTML object>"
            ],
            "text/html": [
              "Syncing run <strong><a href='https://wandb.ai/parthzadeshwariya-nirma-university/huggingface/runs/mngrtjjo' target=\"_blank\">noble-thunder-5</a></strong> to <a href='https://wandb.ai/parthzadeshwariya-nirma-university/huggingface' target=\"_blank\">Weights & Biases</a> (<a href='https://wandb.me/developer-guide' target=\"_blank\">docs</a>)<br>"
            ]
          },
          "metadata": {}
        },
        {
          "output_type": "display_data",
          "data": {
            "text/plain": [
              "<IPython.core.display.HTML object>"
            ],
            "text/html": [
              " View project at <a href='https://wandb.ai/parthzadeshwariya-nirma-university/huggingface' target=\"_blank\">https://wandb.ai/parthzadeshwariya-nirma-university/huggingface</a>"
            ]
          },
          "metadata": {}
        },
        {
          "output_type": "display_data",
          "data": {
            "text/plain": [
              "<IPython.core.display.HTML object>"
            ],
            "text/html": [
              " View run at <a href='https://wandb.ai/parthzadeshwariya-nirma-university/huggingface/runs/mngrtjjo' target=\"_blank\">https://wandb.ai/parthzadeshwariya-nirma-university/huggingface/runs/mngrtjjo</a>"
            ]
          },
          "metadata": {}
        },
        {
          "output_type": "display_data",
          "data": {
            "text/plain": [
              "<IPython.core.display.HTML object>"
            ],
            "text/html": [
              "\n",
              "    <div>\n",
              "      \n",
              "      <progress value='3116' max='3116' style='width:300px; height:20px; vertical-align: middle;'></progress>\n",
              "      [3116/3116 18:31, Epoch 2/2]\n",
              "    </div>\n",
              "    <table border=\"1\" class=\"dataframe\">\n",
              "  <thead>\n",
              " <tr style=\"text-align: left;\">\n",
              "      <th>Step</th>\n",
              "      <th>Training Loss</th>\n",
              "    </tr>\n",
              "  </thead>\n",
              "  <tbody>\n",
              "    <tr>\n",
              "      <td>500</td>\n",
              "      <td>1.886000</td>\n",
              "    </tr>\n",
              "    <tr>\n",
              "      <td>1000</td>\n",
              "      <td>1.740100</td>\n",
              "    </tr>\n",
              "    <tr>\n",
              "      <td>1500</td>\n",
              "      <td>1.687500</td>\n",
              "    </tr>\n",
              "    <tr>\n",
              "      <td>2000</td>\n",
              "      <td>1.488100</td>\n",
              "    </tr>\n",
              "    <tr>\n",
              "      <td>2500</td>\n",
              "      <td>1.442200</td>\n",
              "    </tr>\n",
              "    <tr>\n",
              "      <td>3000</td>\n",
              "      <td>1.425800</td>\n",
              "    </tr>\n",
              "  </tbody>\n",
              "</table><p>"
            ]
          },
          "metadata": {}
        },
        {
          "output_type": "stream",
          "name": "stderr",
          "text": [
            "/usr/local/lib/python3.12/dist-packages/transformers/modeling_utils.py:3918: UserWarning: Moving the following attributes in the config to the generation config: {'early_stopping': True, 'num_beams': 4, 'no_repeat_ngram_size': 3, 'forced_bos_token_id': 0}. You are seeing this warning because you've set generation parameters in the model config, as opposed to in the generation config.\n",
            "  warnings.warn(\n"
          ]
        },
        {
          "output_type": "execute_result",
          "data": {
            "text/plain": [
              "TrainOutput(global_step=3116, training_loss=1.606511499211479, metrics={'train_runtime': 1239.7002, 'train_samples_per_second': 20.102, 'train_steps_per_second': 2.514, 'total_flos': 1899329067417600.0, 'train_loss': 1.606511499211479, 'epoch': 2.0})"
            ]
          },
          "metadata": {},
          "execution_count": 13
        }
      ]
    },
    {
      "cell_type": "code",
      "source": [
        "# Evaluate the model\n",
        "eval_results = trainer.evaluate()\n",
        "\n",
        "# Print evaluation results\n",
        "print(eval_results)"
      ],
      "metadata": {
        "colab": {
          "base_uri": "https://localhost:8080/",
          "height": 54
        },
        "id": "D-O3aB7m_oWs",
        "outputId": "d9d7ab3b-a596-4013-c02a-68723ff6d2b4"
      },
      "execution_count": null,
      "outputs": [
        {
          "output_type": "display_data",
          "data": {
            "text/plain": [
              "<IPython.core.display.HTML object>"
            ],
            "text/html": [
              "\n",
              "    <div>\n",
              "      \n",
              "      <progress value='188' max='188' style='width:300px; height:20px; vertical-align: middle;'></progress>\n",
              "      [188/188 00:18]\n",
              "    </div>\n",
              "    "
            ]
          },
          "metadata": {}
        },
        {
          "output_type": "stream",
          "name": "stdout",
          "text": [
            "{'eval_loss': 1.6490647792816162, 'eval_runtime': 18.2734, 'eval_samples_per_second': 82.087, 'eval_steps_per_second': 10.288, 'epoch': 2.0}\n"
          ]
        }
      ]
    },
    {
      "cell_type": "markdown",
      "source": [
        "#### Save the Model"
      ],
      "metadata": {
        "id": "0Ou3cpN6Syn-"
      }
    },
    {
      "cell_type": "code",
      "source": [
        "# Save the model and tokenizer after training\n",
        "model.save_pretrained(\"/content/your_model_directory\")\n",
        "tokenizer.save_pretrained(\"/content/your_model_directory\")"
      ],
      "metadata": {
        "colab": {
          "base_uri": "https://localhost:8080/"
        },
        "id": "VBzLwhGeNUlM",
        "outputId": "1bd9d884-2579-4212-b655-4562810d949e"
      },
      "execution_count": null,
      "outputs": [
        {
          "output_type": "execute_result",
          "data": {
            "text/plain": [
              "('/content/your_model_directory/tokenizer_config.json',\n",
              " '/content/your_model_directory/special_tokens_map.json',\n",
              " '/content/your_model_directory/vocab.json',\n",
              " '/content/your_model_directory/merges.txt',\n",
              " '/content/your_model_directory/added_tokens.json',\n",
              " '/content/your_model_directory/tokenizer.json')"
            ]
          },
          "metadata": {},
          "execution_count": 15
        }
      ]
    },
    {
      "cell_type": "markdown",
      "source": [
        "#### Using the saved model to Summarize the content"
      ],
      "metadata": {
        "id": "MdhZFDqzToQB"
      }
    },
    {
      "cell_type": "code",
      "source": [
        "from transformers import AutoTokenizer, AutoModelForSeq2SeqLM\n",
        "\n",
        "# Load the trained model and tokenizer\n",
        "tokenizer = AutoTokenizer.from_pretrained(\"/content/your_model_directory\")\n",
        "model = AutoModelForSeq2SeqLM.from_pretrained(\"/content/your_model_directory\")\n",
        "\n",
        "# Function to summarize a blog post\n",
        "def summarize(blog_post):\n",
        "    # Tokenize the input blog post\n",
        "    inputs = tokenizer(blog_post, max_length=1024, truncation=True, return_tensors=\"pt\")\n",
        "\n",
        "    # Generate the summary\n",
        "    summary_ids = model.generate(inputs[\"input_ids\"], max_length=150, min_length=40, length_penalty=2.0, num_beams=4, early_stopping=True)\n",
        "\n",
        "    # Decode the summary\n",
        "    summary = tokenizer.decode(summary_ids[0], skip_special_tokens=True)\n",
        "    return summary\n",
        "\n",
        "# Example blog post\n",
        "blog_post = \"\"\"\n",
        "As Yogi Berra famously said, it’s tough to make predictions, especially about the future. But had the baseball legend spent any time observing the UN climate negotiations, he could have safely predicted that climate finance will prove to be a key sticking point at COP29 in Baku at the end of this year.\n",
        "\n",
        "‘Who will pay and how much?’ are perennial questions at the climate talks, but this year, the discussions about climate finance will be especially prominent. At COP29, Parties to the Paris Agreement must negotiate a new climate finance goal, to replace the existing commitment from 2009 for developed countries to provide US$100 billion climate finance annually from 2020 to 2025 - a commitment that only in 2022 was starting to be fulfilled, according to a recent OECD report.\n",
        "\n",
        "It is vital that the forthcoming Bonn Climate Change Conference sends the right political signals, and lays the procedural and technical groundwork for an ambitious climate finance deal in Baku.\n",
        "\n",
        "A pressing need\n",
        "\n",
        "With global warming already destabilising the climate and devastating people’s lives and livelihoods, the need for finance to reduce greenhouse gas emissions and to adapt to a warming world has never been more pressing.\n",
        "\n",
        "The sums involved are large. The Paris Agreement’s Global Stocktake process estimates that US$5.8-5.9 trillion is required to implement Nationally Determined Contributions (NDCs) in developing countries up to 2030. They will require US$215-387 billion annually over this period for adaptation. Investments of US$1.5 trillion in renewable energy are required worldwide every year up until 2030, according to IRENA.\n",
        "\n",
        "But these sums are also affordable and beneficial for developed countries. They should be seen in the context of ongoing investments in energy and other infrastructure: around US$2.3 trillion was invested in energy infrastructure in 2023, of which US$1.74 trillion was in clean energy. These investments will generate strong returns for their investors and reduce the costs for energy consumers.\n",
        "\n",
        "And, crucially, they should also be seen in the context of the alternative. The latest research estimates that the world economy is already set to face a 19% income reduction within the next 26 years based on the levels of warming we have already locked in. The more we delay and the more the planet heats, the greater the economic costs will be.\n",
        "\n",
        "Laying the foundations for a new finance goal\n",
        "\n",
        "While financial resources are beginning to flow, they are not flowing fast enough, and certainly not flowing to those developing countries where need is greatest and access to finance is most challenging.\n",
        "\n",
        "The UN climate framework provides mechanisms that can enable those flows of climate finance. Back in 2015, parties at the climate talks agreed to establish a “new collective quantified goal” (NCQG) for climate finance. They agreed that the NCQG would be set prior to 2025.\n",
        "\n",
        "The  ultimate size of the NCQG will be a product of the negotiations, but Parties have agreed it must be a significant increase from the floor of US$100 billion annually. For WWF, it must be needs-based and sufficiently ambitious to meet the scale of the challenge we face, and immediately accessible to help countries that are already facing the chaos of a destabilised climate system.\n",
        "\n",
        "While developed countries are expected to provide financial and technical support, developing countries also have a role to play. Parties are due to submit revised NDCs in 2025, presenting how they plan to reduce emissions and adapt to climate change. Developing countries have the opportunity to use their NDCs to set out how international climate finance can support them and increase their ambition. To do this, they need to know the finance will be forthcoming.\n",
        "\"\"\"\n",
        "\n",
        "# Get the summary\n",
        "summary = summarize(blog_post)\n",
        "print(\"Summary:\", summary)\n"
      ],
      "metadata": {
        "colab": {
          "base_uri": "https://localhost:8080/"
        },
        "id": "EZtk6dlKNUin",
        "outputId": "000168bf-1f4d-407f-e9d2-89a9f2f2d5ff"
      },
      "execution_count": null,
      "outputs": [
        {
          "output_type": "stream",
          "name": "stdout",
          "text": [
            "Summary: #1 Yogi Berra predicts that climate finance will prove to be a key sticking point at COP29 in Baku. #2 Yogi thinks it is important to establish a new climate finance goal.\n"
          ]
        }
      ]
    }
  ]
}